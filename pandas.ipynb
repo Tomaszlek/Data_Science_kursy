{
  "nbformat": 4,
  "nbformat_minor": 0,
  "metadata": {
    "colab": {
      "provenance": [],
      "authorship_tag": "ABX9TyO54rxAx2vNLwiWMCXuTlCK",
      "include_colab_link": true
    },
    "kernelspec": {
      "name": "python3",
      "display_name": "Python 3"
    },
    "language_info": {
      "name": "python"
    }
  },
  "cells": [
    {
      "cell_type": "markdown",
      "metadata": {
        "id": "view-in-github",
        "colab_type": "text"
      },
      "source": [
        "<a href=\"https://colab.research.google.com/github/Tomaszlek/Data_Science_kursy/blob/main/pandas.ipynb\" target=\"_parent\"><img src=\"https://colab.research.google.com/assets/colab-badge.svg\" alt=\"Open In Colab\"/></a>"
      ]
    },
    {
      "cell_type": "code",
      "execution_count": 1,
      "metadata": {
        "id": "vBoAly3IhRkz"
      },
      "outputs": [],
      "source": [
        "import numpy as np\n",
        "import pandas as pd"
      ]
    },
    {
      "cell_type": "code",
      "source": [
        "s = pd.Series(data = [3, 1, 5, 2], dtype = np.uint)\n",
        "print(s)\n",
        "\n",
        "inne_indeksy = pd.Series(data = [3, 1, 5, 2], index = ['a', 'b', 'c', 'd'], name = 'Sample indeks', dtype = np.uint)\n",
        "print(inne_indeksy)"
      ],
      "metadata": {
        "colab": {
          "base_uri": "https://localhost:8080/"
        },
        "id": "QZHvs40ALNqS",
        "outputId": "7eea1543-7893-4d9f-d45f-9e1381feaa85"
      },
      "execution_count": 6,
      "outputs": [
        {
          "output_type": "stream",
          "name": "stdout",
          "text": [
            "0    3\n",
            "1    1\n",
            "2    5\n",
            "3    2\n",
            "dtype: uint64\n",
            "a    3\n",
            "b    1\n",
            "c    5\n",
            "d    2\n",
            "Name: Sample indeks, dtype: uint64\n"
          ]
        }
      ]
    },
    {
      "cell_type": "markdown",
      "source": [
        "Brakujace dane"
      ],
      "metadata": {
        "id": "inaSqIGvMkp2"
      }
    },
    {
      "cell_type": "code",
      "source": [
        "nowa_tabela = pd.Series(data = np.arange(0, 100), index = pd.date_range(start='20240501', periods=100))\n",
        "print(nowa_tabela)\n",
        "\n",
        "lang = pd.Series(data = ['english', 'japanese', 'siuh'], name = 'Języki')\n",
        "print(lang.index)\n",
        "\n",
        "list(nowa_tabela)\n",
        "type(lang)\n",
        "\n",
        "print(lang.values)\n",
        "print(lang.dtypes)"
      ],
      "metadata": {
        "colab": {
          "base_uri": "https://localhost:8080/"
        },
        "id": "RtAh7k81MmI-",
        "outputId": "3e6201af-6d44-4b46-87a2-4a94192bb2e7"
      },
      "execution_count": 13,
      "outputs": [
        {
          "output_type": "stream",
          "name": "stdout",
          "text": [
            "2024-05-01     0\n",
            "2024-05-02     1\n",
            "2024-05-03     2\n",
            "2024-05-04     3\n",
            "2024-05-05     4\n",
            "              ..\n",
            "2024-08-04    95\n",
            "2024-08-05    96\n",
            "2024-08-06    97\n",
            "2024-08-07    98\n",
            "2024-08-08    99\n",
            "Freq: D, Length: 100, dtype: int64\n",
            "RangeIndex(start=0, stop=3, step=1)\n",
            "['english' 'japanese' 'siuh']\n",
            "object\n"
          ]
        }
      ]
    },
    {
      "cell_type": "code",
      "source": [
        "price = pd.Series(data = {'Apple': 200, 'CD Projekt': 160, 'JanuszKorp': 69})\n",
        "print(price)\n",
        "\n",
        "price['Apple']\n",
        "\n",
        "price.count()\n",
        "price.value_counts()\n",
        "\n",
        "#funkcje statystyczne sa takie same jak w numpy\n",
        "\n",
        "price.describe()\n",
        "price.nlargest(2)\n",
        "price.nsmallest(1)\n",
        "\n",
        "price.rank(ascending=False)\n",
        "price.sort_values()\n",
        "\n",
        "price.apply(lambda x: x * 3.8)"
      ],
      "metadata": {
        "colab": {
          "base_uri": "https://localhost:8080/"
        },
        "id": "IxvxfQhHQ6lp",
        "outputId": "ff6649d2-40f3-49f1-9517-d3beb25616f7"
      },
      "execution_count": 22,
      "outputs": [
        {
          "output_type": "stream",
          "name": "stdout",
          "text": [
            "Apple         200\n",
            "CD Projekt    160\n",
            "JanuszKorp     69\n",
            "dtype: int64\n"
          ]
        },
        {
          "output_type": "execute_result",
          "data": {
            "text/plain": [
              "JanuszKorp     69\n",
              "CD Projekt    160\n",
              "Apple         200\n",
              "dtype: int64"
            ]
          },
          "metadata": {},
          "execution_count": 22
        }
      ]
    },
    {
      "cell_type": "markdown",
      "source": [
        "# DataFrame"
      ],
      "metadata": {
        "id": "2bEcOwS_VXMT"
      }
    },
    {
      "cell_type": "code",
      "source": [
        "df = pd.DataFrame(data = [12, 12, 34])\n",
        "df\n",
        "\n",
        "gielda = pd.DataFrame(data = {'Wig 20': ['PKN Orlen', 'KGHM'],\n",
        "                              'mWIG 40': ['Amica', 'Zelmer']})\n",
        "\n",
        "gielda.columns\n",
        "gielda.index\n",
        "\n",
        "gielda.info()\n",
        "gielda.describe()\n",
        "\n",
        "print(gielda['Wig 20']) #pojedynczy nawias zwraca series, podwójny nawias zwraca DataFrame\n",
        "\n",
        "gielda[['mWIG 40']]\n",
        "\n",
        "gielda.columns = ['WIG 20', 'WIG 50']\n",
        "gielda\n",
        "\n",
        "#do wycinania metody loc i iloc, iloc podajemy indeksy zamiast nazw\n",
        "\n",
        "gielda.loc[0, 'WIG 20']\n",
        "\n",
        "gielda.iloc[0]"
      ],
      "metadata": {
        "colab": {
          "base_uri": "https://localhost:8080/"
        },
        "id": "NwTUXUawVaej",
        "outputId": "e6264475-c714-478d-cc08-e4c466402c2d"
      },
      "execution_count": 39,
      "outputs": [
        {
          "output_type": "stream",
          "name": "stdout",
          "text": [
            "<class 'pandas.core.frame.DataFrame'>\n",
            "RangeIndex: 2 entries, 0 to 1\n",
            "Data columns (total 2 columns):\n",
            " #   Column   Non-Null Count  Dtype \n",
            "---  ------   --------------  ----- \n",
            " 0   Wig 20   2 non-null      object\n",
            " 1   mWIG 40  2 non-null      object\n",
            "dtypes: object(2)\n",
            "memory usage: 160.0+ bytes\n",
            "0    PKN Orlen\n",
            "1         KGHM\n",
            "Name: Wig 20, dtype: object\n"
          ]
        },
        {
          "output_type": "execute_result",
          "data": {
            "text/plain": [
              "WIG 20    PKN Orlen\n",
              "WIG 50        Amica\n",
              "Name: 0, dtype: object"
            ]
          },
          "metadata": {},
          "execution_count": 39
        }
      ]
    }
  ]
}