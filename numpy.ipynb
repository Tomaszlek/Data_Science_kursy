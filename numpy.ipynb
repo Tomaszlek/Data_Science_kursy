{
  "nbformat": 4,
  "nbformat_minor": 0,
  "metadata": {
    "colab": {
      "provenance": [],
      "authorship_tag": "ABX9TyPiPYcdWxZBM6SBFvTfKlqA",
      "include_colab_link": true
    },
    "kernelspec": {
      "name": "python3",
      "display_name": "Python 3"
    },
    "language_info": {
      "name": "python"
    }
  },
  "cells": [
    {
      "cell_type": "markdown",
      "metadata": {
        "id": "view-in-github",
        "colab_type": "text"
      },
      "source": [
        "<a href=\"https://colab.research.google.com/github/Tomaszlek/Data_Science_kursy/blob/main/numpy.ipynb\" target=\"_parent\"><img src=\"https://colab.research.google.com/assets/colab-badge.svg\" alt=\"Open In Colab\"/></a>"
      ]
    },
    {
      "cell_type": "markdown",
      "source": [
        "**NumPy**"
      ],
      "metadata": {
        "id": "N2kCrsJo14vK"
      }
    },
    {
      "cell_type": "code",
      "source": [
        "import numpy as np\n",
        "\n",
        "np.__version__"
      ],
      "metadata": {
        "id": "zcxOYic5yd3B",
        "colab": {
          "base_uri": "https://localhost:8080/",
          "height": 35
        },
        "outputId": "1a85897c-feff-4c40-fb12-1f360c730390"
      },
      "execution_count": 2,
      "outputs": [
        {
          "output_type": "execute_result",
          "data": {
            "text/plain": [
              "'1.25.2'"
            ],
            "application/vnd.google.colaboratory.intrinsic+json": {
              "type": "string"
            }
          },
          "metadata": {},
          "execution_count": 2
        }
      ]
    },
    {
      "cell_type": "code",
      "source": [
        "x = np.array([1, 2, 3])\n",
        "print(x)\n",
        "\n",
        "nowa_tablica = np.array([[2, 4], [1, 2+0.5j]], dtype=complex)\n",
        "print(nowa_tablica)\n",
        "\n",
        "x.ndim\n",
        "x.size\n",
        "x.shape\n",
        "x.dtype\n",
        "\n",
        "\n",
        "nowa_tablica.shape"
      ],
      "metadata": {
        "colab": {
          "base_uri": "https://localhost:8080/"
        },
        "id": "TDgcNrhk2l2Z",
        "outputId": "7d508918-1c13-4f81-f5d1-6c34bb75122a"
      },
      "execution_count": 9,
      "outputs": [
        {
          "output_type": "stream",
          "name": "stdout",
          "text": [
            "[1 2 3]\n",
            "[[2.+0.j  4.+0.j ]\n",
            " [1.+0.j  2.+0.5j]]\n"
          ]
        },
        {
          "output_type": "execute_result",
          "data": {
            "text/plain": [
              "(2, 2)"
            ]
          },
          "metadata": {},
          "execution_count": 9
        }
      ]
    },
    {
      "cell_type": "code",
      "source": [
        "tablica = np.array([1, 5.5, 23], dtype=float)"
      ],
      "metadata": {
        "id": "Zsh9EzebZz0E"
      },
      "execution_count": 3,
      "outputs": []
    },
    {
      "cell_type": "code",
      "source": [
        "x = np.zeros(shape = (4, 10), dtype = np.uint8)\n",
        "print(x)\n",
        "\n",
        "y = np.ones(shape = (3, 5, 2), dtype = np.uint8)\n",
        "print(y)\n",
        "\n",
        "z = np.full(shape = (3, 3), fill_value = 4, dtype = int)\n",
        "print(z)\n",
        "\n",
        "w = np.arange(start = 10, stop = 1, step = -1)\n",
        "print(w)\n",
        "\n",
        "liniowa = np.linspace(start = 0, stop = 64, num = 10, dtype = int)\n",
        "print(liniowa)\n",
        "liniowa.reshape((2, -1))"
      ],
      "metadata": {
        "colab": {
          "base_uri": "https://localhost:8080/"
        },
        "id": "hKeKPDPZa79o",
        "outputId": "6df2cda4-bbcd-4d04-931e-fee5fd9be5ac"
      },
      "execution_count": 18,
      "outputs": [
        {
          "output_type": "stream",
          "name": "stdout",
          "text": [
            "[[0 0 0 0 0 0 0 0 0 0]\n",
            " [0 0 0 0 0 0 0 0 0 0]\n",
            " [0 0 0 0 0 0 0 0 0 0]\n",
            " [0 0 0 0 0 0 0 0 0 0]]\n",
            "[[[1 1]\n",
            "  [1 1]\n",
            "  [1 1]\n",
            "  [1 1]\n",
            "  [1 1]]\n",
            "\n",
            " [[1 1]\n",
            "  [1 1]\n",
            "  [1 1]\n",
            "  [1 1]\n",
            "  [1 1]]\n",
            "\n",
            " [[1 1]\n",
            "  [1 1]\n",
            "  [1 1]\n",
            "  [1 1]\n",
            "  [1 1]]]\n",
            "[[4 4 4]\n",
            " [4 4 4]\n",
            " [4 4 4]]\n",
            "[10  9  8  7  6  5  4  3  2]\n",
            "[ 0  7 14 21 28 35 42 49 56 64]\n"
          ]
        },
        {
          "output_type": "execute_result",
          "data": {
            "text/plain": [
              "array([[ 0,  7, 14, 21, 28],\n",
              "       [35, 42, 49, 56, 64]])"
            ]
          },
          "metadata": {},
          "execution_count": 18
        }
      ]
    },
    {
      "cell_type": "markdown",
      "source": [
        "##Operacje na tablicach"
      ],
      "metadata": {
        "id": "rPAuqsGTdA2S"
      }
    },
    {
      "cell_type": "code",
      "source": [
        "tablica1 = np.array([4, 2, 5, 3])\n",
        "tablica2 = np.array([7, 4, 6, 1])\n",
        "\n",
        "print(tablica1, tablica2)\n",
        "np.add(tablica1, tablica2)\n",
        "np.subtract(tablica1, tablica2)\n",
        "np.multiply(tablica1, tablica2)\n",
        "np.divide(tablica1, tablica2)\n",
        "\n",
        "tablica1 + 3\n",
        "\n",
        "tablica1.reshape((2,2))\n",
        "tablica2.reshape((2,2))\n",
        "\n",
        "print(np.dot(tablica1, tablica2))\n",
        "print(np.dot(tablica2, tablica1))"
      ],
      "metadata": {
        "colab": {
          "base_uri": "https://localhost:8080/"
        },
        "id": "ophs_pSMdGv5",
        "outputId": "b2c30f91-192c-42ff-ba62-f6ec77d2e524"
      },
      "execution_count": 26,
      "outputs": [
        {
          "output_type": "stream",
          "name": "stdout",
          "text": [
            "[4 2 5 3] [7 4 6 1]\n",
            "69\n",
            "69\n"
          ]
        }
      ]
    },
    {
      "cell_type": "markdown",
      "source": [
        "Liczby pseudolosowe"
      ],
      "metadata": {
        "id": "qNevT56PfLhX"
      }
    },
    {
      "cell_type": "code",
      "source": [
        "np.random.seed(0)\n",
        "\n",
        "np.random.randn(20, 2)\n",
        "np.random.rand(2, 4)*100\n",
        "np.random.randint(low = 10, high = 100, size=(2, 10))\n",
        "\n",
        "np.random.choice(tablica2)\n",
        "\n",
        "np.random.shuffle(tablica1)\n",
        "print(tablica1)"
      ],
      "metadata": {
        "colab": {
          "base_uri": "https://localhost:8080/"
        },
        "id": "7Xq4E3mcfOG2",
        "outputId": "163a508a-574e-420f-8e94-8056925453b7"
      },
      "execution_count": 38,
      "outputs": [
        {
          "output_type": "stream",
          "name": "stdout",
          "text": [
            "[3 4 5 2]\n"
          ]
        }
      ]
    },
    {
      "cell_type": "markdown",
      "source": [
        "Funkcje matematyczne"
      ],
      "metadata": {
        "id": "rEZ5H1oIgtUV"
      }
    },
    {
      "cell_type": "code",
      "source": [
        "np.exp(tablica1)\n",
        "np.sqrt(tablica1)\n",
        "\n",
        "np.all(tablica1) #sprawdza, czy wszystkie wartości zwrócą nam prawdę\n",
        "np.any(tablica1) #tu tak samo, tylko gdy jakakolwiek wartość to prawda\n",
        "\n",
        "np.argmax(tablica1)\n",
        "tablica1[np.argmax(tablica1)]\n",
        "tablica2[np.argmin(tablica2)]\n",
        "\n",
        "np.argsort(tablica1)\n",
        "\n",
        "np.median(tablica1)\n",
        "np.std(tablica2)"
      ],
      "metadata": {
        "colab": {
          "base_uri": "https://localhost:8080/"
        },
        "id": "Mgite0uMgvYs",
        "outputId": "b42afbde-5371-4d7d-dc39-730598ebc9d1"
      },
      "execution_count": 46,
      "outputs": [
        {
          "output_type": "execute_result",
          "data": {
            "text/plain": [
              "2.29128784747792"
            ]
          },
          "metadata": {},
          "execution_count": 46
        }
      ]
    },
    {
      "cell_type": "markdown",
      "source": [
        "Indeksacja, wycinanie"
      ],
      "metadata": {
        "id": "ZCMWFqnT007N"
      }
    },
    {
      "cell_type": "code",
      "source": [
        "tab = np.arange(20)\n",
        "\n",
        "print(tab[2:])\n",
        "\n",
        "tab = tab.reshape((4, 5))\n",
        "\n",
        "print(tab[:, -1])\n",
        "\n",
        "print(tab[1:3, 2:4])\n",
        "tab[1, 4] = 19"
      ],
      "metadata": {
        "colab": {
          "base_uri": "https://localhost:8080/"
        },
        "id": "1Zere1V-03vt",
        "outputId": "b6f39f6e-3f5d-4602-ef3c-55d5bf4b9407"
      },
      "execution_count": 52,
      "outputs": [
        {
          "output_type": "stream",
          "name": "stdout",
          "text": [
            "[ 2  3  4  5  6  7  8  9 10 11 12 13 14 15 16 17 18 19]\n",
            "[ 4  9 14 19]\n",
            "[[ 7  8]\n",
            " [12 13]]\n"
          ]
        }
      ]
    },
    {
      "cell_type": "markdown",
      "source": [
        "# Iterowanie po tablicy, filtrowanie"
      ],
      "metadata": {
        "id": "Yn_D7lNl2HM0"
      }
    },
    {
      "cell_type": "code",
      "source": [
        "for rzad in tab.flat:\n",
        "  print(rzad)\n",
        "\n",
        "tab.ravel()\n",
        "tab.T\n",
        "\n",
        "print(tab[np.bitwise_and(tab > 10, tab < 15)])\n",
        "print(tab[np.bitwise_or(tab < 10, tab > 16)]) #kiedy duzo warunkow, uzywamy bitwise_and, bitwise_or lub bitwise_not"
      ],
      "metadata": {
        "colab": {
          "base_uri": "https://localhost:8080/"
        },
        "id": "6BM66s6u2PMC",
        "outputId": "1f1c6b9e-ae57-4db1-caa3-4ec95737856e"
      },
      "execution_count": 61,
      "outputs": [
        {
          "output_type": "stream",
          "name": "stdout",
          "text": [
            "0\n",
            "1\n",
            "2\n",
            "3\n",
            "4\n",
            "5\n",
            "6\n",
            "7\n",
            "8\n",
            "19\n",
            "10\n",
            "11\n",
            "12\n",
            "13\n",
            "14\n",
            "15\n",
            "16\n",
            "17\n",
            "18\n",
            "19\n",
            "[11 12 13 14]\n",
            "[ 0  1  2  3  4  5  6  7  8 19 17 18 19]\n"
          ]
        }
      ]
    },
    {
      "cell_type": "markdown",
      "source": [
        "# Algebra liniowa\n",
        "## wektory i macierze"
      ],
      "metadata": {
        "id": "nP_HLkmv4htJ"
      }
    },
    {
      "cell_type": "code",
      "source": [
        "wektor1 = np.array([3, 1])\n",
        "wektor2 = np.array([4, 2])\n",
        "\n",
        "print(np.linalg.norm(wektor1 - wektor2))"
      ],
      "metadata": {
        "colab": {
          "base_uri": "https://localhost:8080/"
        },
        "id": "CNYuoPqQ4oBK",
        "outputId": "138b313b-0315-4b51-d183-a00e477ef0b1"
      },
      "execution_count": 3,
      "outputs": [
        {
          "output_type": "stream",
          "name": "stdout",
          "text": [
            "1.4142135623730951\n"
          ]
        }
      ]
    },
    {
      "cell_type": "code",
      "source": [
        "macierz1 = np.array([[3, 1], [-5, 2]])\n",
        "macierz2 = np.array([[5], [3]])\n",
        "\n",
        "macierz3 = np.dot(macierz1, macierz2)\n",
        "print(macierz3)\n",
        "\n",
        "wyznacznik1 = np.linalg.det(macierz1)\n",
        "print(wyznacznik1)\n",
        "\n",
        "macierz_jednostkowa = np.eye(4, dtype = int)\n",
        "print(macierz_jednostkowa)\n",
        "\n",
        "macierz_odwrotna = np.linalg.inv(macierz1)\n",
        "print(macierz_odwrotna)\n",
        "\n",
        "macierz_transponowana = np.transpose(macierz3)\n",
        "print(macierz_transponowana)"
      ],
      "metadata": {
        "colab": {
          "base_uri": "https://localhost:8080/"
        },
        "id": "_rZziDsXcpoo",
        "outputId": "08da0eda-ec67-41b5-8c15-7cc8bf9185c1"
      },
      "execution_count": 10,
      "outputs": [
        {
          "output_type": "stream",
          "name": "stdout",
          "text": [
            "[[ 18]\n",
            " [-19]]\n",
            "11.000000000000002\n",
            "[[1 0 0 0]\n",
            " [0 1 0 0]\n",
            " [0 0 1 0]\n",
            " [0 0 0 1]]\n",
            "[[ 0.18181818 -0.09090909]\n",
            " [ 0.45454545  0.27272727]]\n",
            "[[ 18 -19]]\n"
          ]
        }
      ]
    },
    {
      "cell_type": "markdown",
      "source": [
        "# Funkcje statystyczne"
      ],
      "metadata": {
        "id": "MNVwOOBje4Wn"
      }
    },
    {
      "cell_type": "code",
      "source": [
        "ceny = np.array([[12, 16, 15, 14, 2000],\n",
        "                 [13, 18, 13, 14.3, 1230],\n",
        "                 [11, 12, 15.6, 14.5, 2340]])\n",
        "\n",
        "suma = ceny.sum(axis = 1) #sumowanie po kolumnach, axis = 0, wiersze to axis = 1\n",
        "print(suma)\n",
        "\n",
        "print(np.min(ceny))\n",
        "print(np.max(ceny))\n",
        "print(np.median(ceny))\n",
        "print(np.std(ceny))\n",
        "print(np.var(ceny))"
      ],
      "metadata": {
        "colab": {
          "base_uri": "https://localhost:8080/"
        },
        "id": "J00nVoDoe7Pv",
        "outputId": "42a80040-0df9-46d9-9574-d00ec3a3bea9"
      },
      "execution_count": 13,
      "outputs": [
        {
          "output_type": "stream",
          "name": "stdout",
          "text": [
            "[2057.  1288.3 2393.1]\n",
            "11.0\n",
            "2340.0\n",
            "14.5\n",
            "765.7512126881245\n",
            "586374.9197333333\n"
          ]
        }
      ]
    }
  ]
}